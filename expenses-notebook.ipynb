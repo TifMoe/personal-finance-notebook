{
 "cells": [
  {
   "cell_type": "markdown",
   "metadata": {},
   "source": [
    "# Creating plots from a personal finance spreadsheet"
   ]
  },
  {
   "cell_type": "markdown",
   "metadata": {},
   "source": [
    "### Import all the python libraries we'll use in this notebook"
   ]
  },
  {
   "cell_type": "code",
   "execution_count": 52,
   "metadata": {
    "collapsed": true
   },
   "outputs": [],
   "source": [
    "%matplotlib inline\n",
    "\n",
    "import matplotlib\n",
    "import numpy as np\n",
    "import matplotlib.pyplot as plt\n",
    "import pandas as pd\n",
    "import numpy as np\n",
    "\n",
    "from collections import defaultdict"
   ]
  },
  {
   "cell_type": "markdown",
   "metadata": {},
   "source": [
    "### Import the most recent copy of the 'expenses.csv' from this project's directory"
   ]
  },
  {
   "cell_type": "code",
   "execution_count": 53,
   "metadata": {},
   "outputs": [],
   "source": [
    "# Read in expenses CSV saved in local folder\n",
    "expenses = pd.read_csv('expenses.csv', dtype={'amount':np.float64}, parse_dates=['date'])"
   ]
  },
  {
   "cell_type": "code",
   "execution_count": 54,
   "metadata": {},
   "outputs": [
    {
     "data": {
      "text/html": [
       "<div>\n",
       "<style>\n",
       "    .dataframe thead tr:only-child th {\n",
       "        text-align: right;\n",
       "    }\n",
       "\n",
       "    .dataframe thead th {\n",
       "        text-align: left;\n",
       "    }\n",
       "\n",
       "    .dataframe tbody tr th {\n",
       "        vertical-align: top;\n",
       "    }\n",
       "</style>\n",
       "<table border=\"1\" class=\"dataframe\">\n",
       "  <thead>\n",
       "    <tr style=\"text-align: right;\">\n",
       "      <th></th>\n",
       "      <th>date</th>\n",
       "      <th>amount</th>\n",
       "      <th>description</th>\n",
       "      <th>category</th>\n",
       "      <th>subcategory</th>\n",
       "      <th>payment_type</th>\n",
       "    </tr>\n",
       "  </thead>\n",
       "  <tbody>\n",
       "    <tr>\n",
       "      <th>0</th>\n",
       "      <td>2017-12-25</td>\n",
       "      <td>25.0</td>\n",
       "      <td>HEB</td>\n",
       "      <td>Food</td>\n",
       "      <td>Grocery</td>\n",
       "      <td>Credit Card</td>\n",
       "    </tr>\n",
       "    <tr>\n",
       "      <th>1</th>\n",
       "      <td>2017-12-25</td>\n",
       "      <td>78.0</td>\n",
       "      <td>Movie Theater</td>\n",
       "      <td>Entertainment</td>\n",
       "      <td>Movies</td>\n",
       "      <td>Credit Card</td>\n",
       "    </tr>\n",
       "    <tr>\n",
       "      <th>2</th>\n",
       "      <td>2017-12-27</td>\n",
       "      <td>100.0</td>\n",
       "      <td>Escape Room</td>\n",
       "      <td>Entertainment</td>\n",
       "      <td>Game</td>\n",
       "      <td>Credit Card</td>\n",
       "    </tr>\n",
       "    <tr>\n",
       "      <th>3</th>\n",
       "      <td>2017-12-27</td>\n",
       "      <td>19.0</td>\n",
       "      <td>Conans Pizza</td>\n",
       "      <td>Food</td>\n",
       "      <td>Restaurant</td>\n",
       "      <td>Cash</td>\n",
       "    </tr>\n",
       "    <tr>\n",
       "      <th>4</th>\n",
       "      <td>2017-12-25</td>\n",
       "      <td>25.0</td>\n",
       "      <td>HEB</td>\n",
       "      <td>Health and Beauty</td>\n",
       "      <td>Grocery</td>\n",
       "      <td>Credit Card</td>\n",
       "    </tr>\n",
       "  </tbody>\n",
       "</table>\n",
       "</div>"
      ],
      "text/plain": [
       "        date  amount    description           category subcategory  \\\n",
       "0 2017-12-25    25.0            HEB               Food     Grocery   \n",
       "1 2017-12-25    78.0  Movie Theater      Entertainment      Movies   \n",
       "2 2017-12-27   100.0    Escape Room      Entertainment        Game   \n",
       "3 2017-12-27    19.0   Conans Pizza               Food  Restaurant   \n",
       "4 2017-12-25    25.0            HEB  Health and Beauty     Grocery   \n",
       "\n",
       "  payment_type  \n",
       "0  Credit Card  \n",
       "1  Credit Card  \n",
       "2  Credit Card  \n",
       "3         Cash  \n",
       "4  Credit Card  "
      ]
     },
     "execution_count": 54,
     "metadata": {},
     "output_type": "execute_result"
    }
   ],
   "source": [
    "# Use .head() function to checkout the first few rows - you can specify in the argument to head function\n",
    "expenses.head(5)"
   ]
  },
  {
   "cell_type": "code",
   "execution_count": 55,
   "metadata": {},
   "outputs": [
    {
     "name": "stdout",
     "output_type": "stream",
     "text": [
      "date            datetime64[ns]\n",
      "amount                 float64\n",
      "description             object\n",
      "category                object\n",
      "subcategory             object\n",
      "payment_type            object\n",
      "dtype: object\n"
     ]
    }
   ],
   "source": [
    "# See the column names and column datatypes\n",
    "print(expenses.dtypes)"
   ]
  },
  {
   "cell_type": "markdown",
   "metadata": {},
   "source": [
    "### Create dictionary to map past descriptions to categories"
   ]
  },
  {
   "cell_type": "code",
   "execution_count": 56,
   "metadata": {},
   "outputs": [
    {
     "name": "stdout",
     "output_type": "stream",
     "text": [
      "defaultdict(<class 'list'>, {'HEB': ['Food', 'Health and Beauty'], 'Movie Theater': ['Entertainment'], 'Escape Room': ['Entertainment'], 'Conans Pizza': ['Food']})\n"
     ]
    }
   ],
   "source": [
    "# Initialize empty dictionary object that takes in a list\n",
    "category_dict = defaultdict(list)\n",
    "\n",
    "# Iterate over every row in the dataframe to associate categories with past descriptions\n",
    "for index, row in expenses.iterrows():\n",
    "    category_dict[row['description']].append(row['category'])\n",
    "    \n",
    "print(category_dict)"
   ]
  },
  {
   "cell_type": "markdown",
   "metadata": {},
   "source": [
    "### Create plot of expenses by category for a given month\n",
    "We could group our expenses by month two ways:\n"
   ]
  },
  {
   "cell_type": "markdown",
   "metadata": {},
   "source": [
    "#### 1) Create a new column with the month extracted from the date"
   ]
  },
  {
   "cell_type": "code",
   "execution_count": 31,
   "metadata": {},
   "outputs": [
    {
     "data": {
      "text/html": [
       "<div>\n",
       "<style>\n",
       "    .dataframe thead tr:only-child th {\n",
       "        text-align: right;\n",
       "    }\n",
       "\n",
       "    .dataframe thead th {\n",
       "        text-align: left;\n",
       "    }\n",
       "\n",
       "    .dataframe tbody tr th {\n",
       "        vertical-align: top;\n",
       "    }\n",
       "</style>\n",
       "<table border=\"1\" class=\"dataframe\">\n",
       "  <thead>\n",
       "    <tr style=\"text-align: right;\">\n",
       "      <th></th>\n",
       "      <th>date</th>\n",
       "      <th>amount</th>\n",
       "      <th>description</th>\n",
       "      <th>category</th>\n",
       "      <th>subcategory</th>\n",
       "      <th>payment_type</th>\n",
       "      <th>month</th>\n",
       "    </tr>\n",
       "  </thead>\n",
       "  <tbody>\n",
       "    <tr>\n",
       "      <th>0</th>\n",
       "      <td>2017-12-25</td>\n",
       "      <td>25.0</td>\n",
       "      <td>HEB</td>\n",
       "      <td>Food</td>\n",
       "      <td>Grocery</td>\n",
       "      <td>Credit Card</td>\n",
       "      <td>2017-12</td>\n",
       "    </tr>\n",
       "    <tr>\n",
       "      <th>1</th>\n",
       "      <td>2017-12-25</td>\n",
       "      <td>78.0</td>\n",
       "      <td>Movie Theater</td>\n",
       "      <td>Entertainment</td>\n",
       "      <td>Movies</td>\n",
       "      <td>Credit Card</td>\n",
       "      <td>2017-12</td>\n",
       "    </tr>\n",
       "    <tr>\n",
       "      <th>2</th>\n",
       "      <td>2017-12-27</td>\n",
       "      <td>100.0</td>\n",
       "      <td>Escape Room</td>\n",
       "      <td>Entertainment</td>\n",
       "      <td>Game</td>\n",
       "      <td>Credit Card</td>\n",
       "      <td>2017-12</td>\n",
       "    </tr>\n",
       "    <tr>\n",
       "      <th>3</th>\n",
       "      <td>2017-12-27</td>\n",
       "      <td>19.0</td>\n",
       "      <td>Conans Pizza</td>\n",
       "      <td>Food</td>\n",
       "      <td>Restaurant</td>\n",
       "      <td>Cash</td>\n",
       "      <td>2017-12</td>\n",
       "    </tr>\n",
       "    <tr>\n",
       "      <th>4</th>\n",
       "      <td>2017-12-25</td>\n",
       "      <td>25.0</td>\n",
       "      <td>HEB</td>\n",
       "      <td>Health and Beauty</td>\n",
       "      <td>Grocery</td>\n",
       "      <td>Credit Card</td>\n",
       "      <td>2017-12</td>\n",
       "    </tr>\n",
       "  </tbody>\n",
       "</table>\n",
       "</div>"
      ],
      "text/plain": [
       "        date  amount    description           category subcategory  \\\n",
       "0 2017-12-25    25.0            HEB               Food     Grocery   \n",
       "1 2017-12-25    78.0  Movie Theater      Entertainment      Movies   \n",
       "2 2017-12-27   100.0    Escape Room      Entertainment        Game   \n",
       "3 2017-12-27    19.0   Conans Pizza               Food  Restaurant   \n",
       "4 2017-12-25    25.0            HEB  Health and Beauty     Grocery   \n",
       "\n",
       "  payment_type    month  \n",
       "0  Credit Card  2017-12  \n",
       "1  Credit Card  2017-12  \n",
       "2  Credit Card  2017-12  \n",
       "3         Cash  2017-12  \n",
       "4  Credit Card  2017-12  "
      ]
     },
     "execution_count": 31,
     "metadata": {},
     "output_type": "execute_result"
    }
   ],
   "source": [
    "# Add month column to dataframe for grouping\n",
    "expenses['month'] =  [str(x.year) + '-' + str(x.month) for x in expenses['date']]\n",
    "\n",
    "# View first 5 rows to see new month col\n",
    "expenses.head(5)"
   ]
  },
  {
   "cell_type": "code",
   "execution_count": 48,
   "metadata": {},
   "outputs": [
    {
     "data": {
      "text/plain": [
       "month\n",
       "2017-12    247.0\n",
       "Name: amount, dtype: float64"
      ]
     },
     "execution_count": 48,
     "metadata": {},
     "output_type": "execute_result"
    }
   ],
   "source": [
    "# View all months with total amount spent\n",
    "expenses.groupby('month')['amount'].sum()"
   ]
  },
  {
   "cell_type": "markdown",
   "metadata": {},
   "source": [
    "#### 2) We can simply assign the date field as the index value and use a built in pandas function resample('M') to group by month"
   ]
  },
  {
   "cell_type": "code",
   "execution_count": 42,
   "metadata": {},
   "outputs": [
    {
     "data": {
      "text/html": [
       "<div>\n",
       "<style>\n",
       "    .dataframe thead tr:only-child th {\n",
       "        text-align: right;\n",
       "    }\n",
       "\n",
       "    .dataframe thead th {\n",
       "        text-align: left;\n",
       "    }\n",
       "\n",
       "    .dataframe tbody tr th {\n",
       "        vertical-align: top;\n",
       "    }\n",
       "</style>\n",
       "<table border=\"1\" class=\"dataframe\">\n",
       "  <thead>\n",
       "    <tr style=\"text-align: right;\">\n",
       "      <th></th>\n",
       "      <th>date</th>\n",
       "      <th>amount</th>\n",
       "      <th>description</th>\n",
       "      <th>category</th>\n",
       "      <th>subcategory</th>\n",
       "      <th>payment_type</th>\n",
       "      <th>month</th>\n",
       "    </tr>\n",
       "    <tr>\n",
       "      <th>date</th>\n",
       "      <th></th>\n",
       "      <th></th>\n",
       "      <th></th>\n",
       "      <th></th>\n",
       "      <th></th>\n",
       "      <th></th>\n",
       "      <th></th>\n",
       "    </tr>\n",
       "  </thead>\n",
       "  <tbody>\n",
       "    <tr>\n",
       "      <th>2017-12-25</th>\n",
       "      <td>2017-12-25</td>\n",
       "      <td>25.0</td>\n",
       "      <td>HEB</td>\n",
       "      <td>Food</td>\n",
       "      <td>Grocery</td>\n",
       "      <td>Credit Card</td>\n",
       "      <td>2017-12</td>\n",
       "    </tr>\n",
       "    <tr>\n",
       "      <th>2017-12-25</th>\n",
       "      <td>2017-12-25</td>\n",
       "      <td>78.0</td>\n",
       "      <td>Movie Theater</td>\n",
       "      <td>Entertainment</td>\n",
       "      <td>Movies</td>\n",
       "      <td>Credit Card</td>\n",
       "      <td>2017-12</td>\n",
       "    </tr>\n",
       "    <tr>\n",
       "      <th>2017-12-27</th>\n",
       "      <td>2017-12-27</td>\n",
       "      <td>100.0</td>\n",
       "      <td>Escape Room</td>\n",
       "      <td>Entertainment</td>\n",
       "      <td>Game</td>\n",
       "      <td>Credit Card</td>\n",
       "      <td>2017-12</td>\n",
       "    </tr>\n",
       "    <tr>\n",
       "      <th>2017-12-27</th>\n",
       "      <td>2017-12-27</td>\n",
       "      <td>19.0</td>\n",
       "      <td>Conans Pizza</td>\n",
       "      <td>Food</td>\n",
       "      <td>Restaurant</td>\n",
       "      <td>Cash</td>\n",
       "      <td>2017-12</td>\n",
       "    </tr>\n",
       "    <tr>\n",
       "      <th>2017-12-25</th>\n",
       "      <td>2017-12-25</td>\n",
       "      <td>25.0</td>\n",
       "      <td>HEB</td>\n",
       "      <td>Health and Beauty</td>\n",
       "      <td>Grocery</td>\n",
       "      <td>Credit Card</td>\n",
       "      <td>2017-12</td>\n",
       "    </tr>\n",
       "  </tbody>\n",
       "</table>\n",
       "</div>"
      ],
      "text/plain": [
       "                 date  amount    description           category subcategory  \\\n",
       "date                                                                          \n",
       "2017-12-25 2017-12-25    25.0            HEB               Food     Grocery   \n",
       "2017-12-25 2017-12-25    78.0  Movie Theater      Entertainment      Movies   \n",
       "2017-12-27 2017-12-27   100.0    Escape Room      Entertainment        Game   \n",
       "2017-12-27 2017-12-27    19.0   Conans Pizza               Food  Restaurant   \n",
       "2017-12-25 2017-12-25    25.0            HEB  Health and Beauty     Grocery   \n",
       "\n",
       "           payment_type    month  \n",
       "date                              \n",
       "2017-12-25  Credit Card  2017-12  \n",
       "2017-12-25  Credit Card  2017-12  \n",
       "2017-12-27  Credit Card  2017-12  \n",
       "2017-12-27         Cash  2017-12  \n",
       "2017-12-25  Credit Card  2017-12  "
      ]
     },
     "execution_count": 42,
     "metadata": {},
     "output_type": "execute_result"
    }
   ],
   "source": [
    "# View all months with total amount spent\n",
    "expenses.index = expenses['date']\n",
    "expenses.head(5)"
   ]
  },
  {
   "cell_type": "code",
   "execution_count": 49,
   "metadata": {},
   "outputs": [
    {
     "data": {
      "text/html": [
       "<div>\n",
       "<style>\n",
       "    .dataframe thead tr:only-child th {\n",
       "        text-align: right;\n",
       "    }\n",
       "\n",
       "    .dataframe thead th {\n",
       "        text-align: left;\n",
       "    }\n",
       "\n",
       "    .dataframe tbody tr th {\n",
       "        vertical-align: top;\n",
       "    }\n",
       "</style>\n",
       "<table border=\"1\" class=\"dataframe\">\n",
       "  <thead>\n",
       "    <tr style=\"text-align: right;\">\n",
       "      <th></th>\n",
       "      <th>amount</th>\n",
       "    </tr>\n",
       "    <tr>\n",
       "      <th>date</th>\n",
       "      <th></th>\n",
       "    </tr>\n",
       "  </thead>\n",
       "  <tbody>\n",
       "    <tr>\n",
       "      <th>2017-12-31</th>\n",
       "      <td>247.0</td>\n",
       "    </tr>\n",
       "  </tbody>\n",
       "</table>\n",
       "</div>"
      ],
      "text/plain": [
       "            amount\n",
       "date              \n",
       "2017-12-31   247.0"
      ]
     },
     "execution_count": 49,
     "metadata": {},
     "output_type": "execute_result"
    }
   ],
   "source": [
    "# This function is simplier but returns the last date of the month as the month value\n",
    "expenses.resample('M').sum()"
   ]
  },
  {
   "cell_type": "markdown",
   "metadata": {},
   "source": [
    "### Next, we can plot the amount spent in each category for a given month"
   ]
  },
  {
   "cell_type": "code",
   "execution_count": 51,
   "metadata": {},
   "outputs": [
    {
     "name": "stdout",
     "output_type": "stream",
     "text": [
      "23-04\n",
      "23-04\n"
     ]
    }
   ],
   "source": [
    "# Create plot of expenses grouped by month and category\n",
    "month_to_plot = input()"
   ]
  },
  {
   "cell_type": "code",
   "execution_count": null,
   "metadata": {
    "collapsed": true
   },
   "outputs": [],
   "source": [
    "categories_grouped = expenses.groupby(['month', 'category'])['amount']\n",
    "categories_grouped.sum().plot(kind='bar')"
   ]
  },
  {
   "cell_type": "code",
   "execution_count": null,
   "metadata": {
    "collapsed": true
   },
   "outputs": [],
   "source": []
  }
 ],
 "metadata": {
  "kernelspec": {
   "display_name": "Python 3",
   "language": "python",
   "name": "python3"
  },
  "language_info": {
   "codemirror_mode": {
    "name": "ipython",
    "version": 3
   },
   "file_extension": ".py",
   "mimetype": "text/x-python",
   "name": "python",
   "nbconvert_exporter": "python",
   "pygments_lexer": "ipython3",
   "version": "3.6.1"
  }
 },
 "nbformat": 4,
 "nbformat_minor": 2
}
